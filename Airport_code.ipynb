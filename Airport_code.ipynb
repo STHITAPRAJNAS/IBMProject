{
    "nbformat_minor": 1, 
    "cells": [
        {
            "execution_count": 1, 
            "cell_type": "code", 
            "metadata": {}, 
            "outputs": [
                {
                    "output_type": "stream", 
                    "name": "stdout", 
                    "text": "Waiting for a Spark session to start...\nSpark Initialization Done! ApplicationId = app-20181210222736-0000\nKERNEL_ID = 92943368-22c8-40fc-9ee7-b76d44e0dfc4\n"
                }
            ], 
            "source": "import pandas as pd\n"
        }, 
        {
            "execution_count": 2, 
            "cell_type": "code", 
            "metadata": {}, 
            "outputs": [], 
            "source": "trips = pd.DataFrame({\n    \"origin\": [\n        \"PMI\",\n        \"ATH\",\n        \"JFK\",\n        \"HND\"\n    ],\n    \"destination\": [\n        \"OPO\",\n        \"BCN\",\n        \"MAD\",\n        \"LAX\"\n    ],\n    \"internal_flight_ids\": [\n        [2, 1],\n        [3],\n        [5, 4, 6],\n        [8, 9, 7, 0]\n    ]    \n})\ntrips = spark.createDataFrame(trips)"
        }, 
        {
            "execution_count": 3, 
            "cell_type": "code", 
            "metadata": {}, 
            "outputs": [
                {
                    "output_type": "stream", 
                    "name": "stdout", 
                    "text": "+-----------+-------------------+------+\n|destination|internal_flight_ids|origin|\n+-----------+-------------------+------+\n|        OPO|             [2, 1]|   PMI|\n|        BCN|                [3]|   ATH|\n|        MAD|          [5, 4, 6]|   JFK|\n|        LAX|       [8, 9, 7, 0]|   HND|\n+-----------+-------------------+------+\n\n"
                }
            ], 
            "source": "trips.show()"
        }, 
        {
            "execution_count": 4, 
            "cell_type": "code", 
            "metadata": {}, 
            "outputs": [], 
            "source": "flights = pd.DataFrame({\n    \"internal_flight_id\": [\n        0, 1, 2, 3, 4, 5, 6, 7, 8, 9\n    ],\n    \"public_flight_number\": [\n        \"FR5763\", \"UT9586\", \"B4325\", \"RW35675\", \"LP656\",\n        \"NB4321\", \"CX4599\", \"AZ8844\", \"KH8851\", \"OP8777\"\n    ]\n})\nflights = spark.createDataFrame(flights)"
        }, 
        {
            "execution_count": 5, 
            "cell_type": "code", 
            "metadata": {}, 
            "outputs": [
                {
                    "output_type": "stream", 
                    "name": "stdout", 
                    "text": "+------------------+--------------------+\n|internal_flight_id|public_flight_number|\n+------------------+--------------------+\n|                 0|              FR5763|\n|                 1|              UT9586|\n|                 2|               B4325|\n|                 3|             RW35675|\n|                 4|               LP656|\n|                 5|              NB4321|\n|                 6|              CX4599|\n|                 7|              AZ8844|\n|                 8|              KH8851|\n|                 9|              OP8777|\n+------------------+--------------------+\n\n"
                }
            ], 
            "source": "flights.show()"
        }, 
        {
            "execution_count": 6, 
            "cell_type": "code", 
            "metadata": {}, 
            "outputs": [], 
            "source": "from pyspark.sql.functions import col, explode, posexplode, collect_list, monotonically_increasing_id\nfrom pyspark.sql.window import Window"
        }, 
        {
            "execution_count": 7, 
            "cell_type": "code", 
            "metadata": {}, 
            "outputs": [], 
            "source": "#Wrong implementation\n\ntrips = trips \\\n    .withColumn(\"row_id\", monotonically_increasing_id())"
        }, 
        {
            "execution_count": 8, 
            "cell_type": "code", 
            "metadata": {}, 
            "outputs": [
                {
                    "output_type": "stream", 
                    "name": "stdout", 
                    "text": "+-----------+-------------------+------+----------+\n|destination|internal_flight_ids|origin|    row_id|\n+-----------+-------------------+------+----------+\n|        OPO|             [2, 1]|   PMI|         0|\n|        BCN|                [3]|   ATH|         1|\n|        MAD|          [5, 4, 6]|   JFK|8589934592|\n|        LAX|       [8, 9, 7, 0]|   HND|8589934593|\n+-----------+-------------------+------+----------+\n\n"
                }
            ], 
            "source": "trips.show()"
        }, 
        {
            "execution_count": 9, 
            "cell_type": "code", 
            "metadata": {}, 
            "outputs": [
                {
                    "output_type": "stream", 
                    "name": "stdout", 
                    "text": "+----------+------------------+\n|    row_id|internal_flight_id|\n+----------+------------------+\n|         0|                 2|\n|         0|                 1|\n|         1|                 3|\n|8589934592|                 5|\n|8589934592|                 4|\n|8589934592|                 6|\n|8589934593|                 8|\n|8589934593|                 9|\n|8589934593|                 7|\n|8589934593|                 0|\n+----------+------------------+\n\n"
                }
            ], 
            "source": "exploded = trips \\\n    .select(col(\"row_id\"),\n            explode(col(\"internal_flight_ids\")) \\\n               .alias(\"internal_flight_id\"))\nexploded.show()"
        }, 
        {
            "execution_count": 10, 
            "cell_type": "code", 
            "metadata": {}, 
            "outputs": [
                {
                    "output_type": "stream", 
                    "name": "stdout", 
                    "text": "+------------------+----------+--------------------+\n|internal_flight_id|    row_id|public_flight_number|\n+------------------+----------+--------------------+\n|                 0|8589934593|              FR5763|\n|                 7|8589934593|              AZ8844|\n|                 6|8589934592|              CX4599|\n|                 9|8589934593|              OP8777|\n|                 5|8589934592|              NB4321|\n|                 1|         0|              UT9586|\n|                 3|         1|             RW35675|\n|                 8|8589934593|              KH8851|\n|                 2|         0|               B4325|\n|                 4|8589934592|               LP656|\n+------------------+----------+--------------------+\n\n"
                }
            ], 
            "source": "#Join the exploded DataFrame with the flights table in order to add the public flight number.\nexploded_with_flight_number = exploded \\\n    .join(flights, on=\"internal_flight_id\")\nexploded_with_flight_number.show()"
        }, 
        {
            "execution_count": 11, 
            "cell_type": "code", 
            "metadata": {}, 
            "outputs": [
                {
                    "output_type": "stream", 
                    "name": "stdout", 
                    "text": "+----------+---------------------+\n|    row_id|public_flight_numbers|\n+----------+---------------------+\n|8589934592| [CX4599, NB4321, ...|\n|         0|      [UT9586, B4325]|\n|8589934593| [FR5763, AZ8844, ...|\n|         1|            [RW35675]|\n+----------+---------------------+\n\n"
                }
            ], 
            "source": "#Group by row ID and collect the variable public flight number into a list. This can be done with the built-in function collect_list().\ncollected = exploded_with_flight_number \\\n    .groupBy(\"row_id\") \\\n    .agg(collect_list(\"public_flight_number\") \\\n        .alias(\"public_flight_numbers\"))\ncollected.show()"
        }, 
        {
            "execution_count": 12, 
            "cell_type": "code", 
            "metadata": {}, 
            "outputs": [
                {
                    "output_type": "stream", 
                    "name": "stdout", 
                    "text": "+---------------------+-----------+------+\n|public_flight_numbers|destination|origin|\n+---------------------+-----------+------+\n| [CX4599, NB4321, ...|        MAD|   JFK|\n|      [UT9586, B4325]|        OPO|   PMI|\n| [FR5763, AZ8844, ...|        LAX|   HND|\n|            [RW35675]|        BCN|   ATH|\n+---------------------+-----------+------+\n\n"
                }
            ], 
            "source": "#Join the collected DataFrame with the trips table and drop the row ID column.\ntrips_with_flight_numbers = collected \\\n    .join(trips, on=\"row_id\") \\\n    .drop(\"row_id\") \\\n    .drop(\"internal_flight_ids\")\ntrips_with_flight_numbers.show()"
        }, 
        {
            "execution_count": 15, 
            "cell_type": "code", 
            "metadata": {}, 
            "outputs": [
                {
                    "output_type": "stream", 
                    "name": "stdout", 
                    "text": "+----------+--------+------------------+\n|    row_id|position|internal_flight_id|\n+----------+--------+------------------+\n|         0|       0|                 2|\n|         0|       1|                 1|\n|         1|       0|                 3|\n|8589934592|       0|                 5|\n|8589934592|       1|                 4|\n|8589934592|       2|                 6|\n|8589934593|       0|                 8|\n|8589934593|       1|                 9|\n|8589934593|       2|                 7|\n|8589934593|       3|                 0|\n+----------+--------+------------------+\n\n"
                }
            ], 
            "source": "# The above result is wrong\n#Instead of using the explode() function on the internal_flight_ids column we must use the posexplode() built-in function, which creates two variables: one that is the exploded internal flight IDs and the other one that is the position in which each element appears in the array.\nexploded = trips \\\n    .select(col(\"row_id\"),\n            posexplode(col(\"internal_flight_ids\"))) \\\n    .withColumnRenamed(\"col\", \"internal_flight_id\") \\\n    .withColumnRenamed(\"pos\", \"position\")\nexploded.show()"
        }, 
        {
            "execution_count": 16, 
            "cell_type": "code", 
            "metadata": {}, 
            "outputs": [], 
            "source": "#After adding the variable public_flight_number by joining the exploded DataFrame with the flights table (like before), the collect_list() has to be applied taking into account the position column that was created by the posexplode() function, which is done using the Window() function.\nexploded_with_flight_number = exploded \\\n    .join(flights, on=\"internal_flight_id\")\n"
        }, 
        {
            "execution_count": 17, 
            "cell_type": "code", 
            "metadata": {}, 
            "outputs": [
                {
                    "output_type": "stream", 
                    "name": "stdout", 
                    "text": "+------------------+----------+--------+--------------------+\n|internal_flight_id|    row_id|position|public_flight_number|\n+------------------+----------+--------+--------------------+\n|                 0|8589934593|       3|              FR5763|\n|                 7|8589934593|       2|              AZ8844|\n|                 6|8589934592|       2|              CX4599|\n|                 9|8589934593|       1|              OP8777|\n|                 5|8589934592|       0|              NB4321|\n|                 1|         0|       1|              UT9586|\n|                 3|         1|       0|             RW35675|\n|                 8|8589934593|       0|              KH8851|\n|                 2|         0|       0|               B4325|\n|                 4|8589934592|       1|               LP656|\n+------------------+----------+--------+--------------------+\n\n"
                }
            ], 
            "source": "exploded_with_flight_number.show()"
        }, 
        {
            "execution_count": 19, 
            "cell_type": "code", 
            "metadata": {}, 
            "outputs": [
                {
                    "output_type": "stream", 
                    "name": "stdout", 
                    "text": "+----------+---------------------+\n|    row_id|public_flight_numbers|\n+----------+---------------------+\n|8589934592| [NB4321, LP656, C...|\n|8589934592| [NB4321, LP656, C...|\n|8589934592| [NB4321, LP656, C...|\n|         0|      [B4325, UT9586]|\n|         0|      [B4325, UT9586]|\n|8589934593| [KH8851, OP8777, ...|\n|8589934593| [KH8851, OP8777, ...|\n|8589934593| [KH8851, OP8777, ...|\n|8589934593| [KH8851, OP8777, ...|\n|         1|            [RW35675]|\n+----------+---------------------+\n\n"
                }
            ], 
            "source": "collected = exploded_with_flight_number \\\n    .withColumn(\"public_flight_numbers\",\n                collect_list(\"public_flight_number\")\n                    .over(Window \\\n                        .partitionBy(\"row_id\") \\\n                        .orderBy(\"position\") \\\n                        .rowsBetween(Window.unboundedPreceding,\n                                     Window.unboundedFollowing))) \\\n    .select([\"row_id\", \"public_flight_numbers\"])\ncollected.show()"
        }, 
        {
            "execution_count": 20, 
            "cell_type": "code", 
            "metadata": {}, 
            "outputs": [
                {
                    "output_type": "stream", 
                    "name": "stdout", 
                    "text": "+---------------------+-----------+------+\n|public_flight_numbers|destination|origin|\n+---------------------+-----------+------+\n| [NB4321, LP656, C...|        MAD|   JFK|\n|      [B4325, UT9586]|        OPO|   PMI|\n| [KH8851, OP8777, ...|        LAX|   HND|\n|            [RW35675]|        BCN|   ATH|\n+---------------------+-----------+------+\n\n"
                }
            ], 
            "source": "#Note that the rows of the collected table are repeated. The last step to perform is to drop the duplicated rows of such table and join it with the original trips DataFrame.\ntrips_with_flight_numbers = collected \\\n    .dropDuplicates() \\\n    .join(trips, on=\"row_id\") \\\n    .drop(\"row_id\") \\\n    .drop(\"internal_flight_ids\")\ntrips_with_flight_numbers.show()"
        }, 
        {
            "execution_count": null, 
            "cell_type": "code", 
            "metadata": {}, 
            "outputs": [], 
            "source": ""
        }
    ], 
    "metadata": {
        "kernelspec": {
            "display_name": "Python 3.5 with Spark", 
            "name": "python3", 
            "language": "python3"
        }, 
        "language_info": {
            "mimetype": "text/x-python", 
            "nbconvert_exporter": "python", 
            "version": "3.5.4", 
            "name": "python", 
            "file_extension": ".py", 
            "pygments_lexer": "ipython3", 
            "codemirror_mode": {
                "version": 3, 
                "name": "ipython"
            }
        }
    }, 
    "nbformat": 4
}